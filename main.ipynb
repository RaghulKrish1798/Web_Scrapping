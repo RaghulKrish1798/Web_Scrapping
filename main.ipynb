{
 "cells": [
  {
   "cell_type": "code",
   "execution_count": 20,
   "metadata": {},
   "outputs": [],
   "source": [
    "# Importing required libraries\n",
    "from urllib.request import urlopen\n",
    "import re\n",
    "import pandas as pd"
   ]
  },
  {
   "cell_type": "code",
   "execution_count": 21,
   "metadata": {},
   "outputs": [],
   "source": [
    "# opening the IMDb URL using urlopen\n",
    "\n",
    "# url = \"https://www.imdb.com/chart/top/\"\n",
    "url = (\"https://www.imdb.com/search/title?genres=sci-fi&\" + \"start=\" + str(51) + \"&explore=title_type,genres&ref_=adv_prv\") #, headers=headers)\n",
    "\n",
    "page = urlopen(url)"
   ]
  },
  {
   "cell_type": "code",
   "execution_count": 22,
   "metadata": {},
   "outputs": [
    {
     "name": "stdout",
     "output_type": "stream",
     "text": [
      "<http.client.HTTPResponse object at 0x000001D390A3E650>\n"
     ]
    }
   ],
   "source": [
    "# Printing the HTTP response\n",
    "print(page)"
   ]
  },
  {
   "cell_type": "code",
   "execution_count": 23,
   "metadata": {},
   "outputs": [],
   "source": [
    "# Reading and converting the bytes into string (utf-8) format\n",
    "\n",
    "bytes = page.read()\n",
    "html = bytes.decode(\"utf-8\")"
   ]
  },
  {
   "cell_type": "code",
   "execution_count": 71,
   "metadata": {},
   "outputs": [
    {
     "name": "stdout",
     "output_type": "stream",
     "text": [
      "50\n"
     ]
    }
   ],
   "source": [
    "# Finding number of movies in the html\n",
    "\n",
    "movies = re.findall('<img alt=\"(.*)\"', html, re.IGNORECASE)\n",
    "\n",
    "print(len(movies))"
   ]
  },
  {
   "cell_type": "code",
   "execution_count": 108,
   "metadata": {},
   "outputs": [],
   "source": [
    "# print(html)"
   ]
  },
  {
   "cell_type": "code",
   "execution_count": 110,
   "metadata": {},
   "outputs": [
    {
     "name": "stdout",
     "output_type": "stream",
     "text": [
      "<class 'list'>\n"
     ]
    }
   ],
   "source": [
    "# Extracting all the movies info patch in the html and storing it in a list using regex\n",
    "\n",
    "movie_info_html = re.findall('> <img alt=.*?<div class=\"lister-item-image float-left\">', html,re.DOTALL)\n",
    "# print(movie_info_html)\n",
    "print(type(movie_info_html))"
   ]
  },
  {
   "cell_type": "code",
   "execution_count": 109,
   "metadata": {},
   "outputs": [],
   "source": [
    "# for i in range (len(movie_info_html)):\n",
    "#     print(movie_info_html[i])\n",
    "#     print(\"\\n \\n \\n \\n \\n\")\n",
    "\n",
    "# print(movie_info_html[-1])"
   ]
  },
  {
   "cell_type": "code",
   "execution_count": 68,
   "metadata": {},
   "outputs": [
    {
     "name": "stdout",
     "output_type": "stream",
     "text": [
      "<class 'list'>\n",
      "50\n"
     ]
    }
   ],
   "source": [
    "# The last entry Umbrella Academy did not fall into the previous regex pattern, so scrapping it separately.\n",
    "ua = re.findall('> <img alt=\"The Umbrella Academy\".*?>David Castañeda</a>', html, re.DOTALL)\n",
    "\n",
    "# print(ua)\n",
    "movie_info_html.append(ua)\n",
    "print(type(ua))\n",
    "print(len(movie_info_html))"
   ]
  },
  {
   "cell_type": "code",
   "execution_count": 102,
   "metadata": {},
   "outputs": [
    {
     "name": "stdout",
     "output_type": "stream",
     "text": [
      "> <img alt=\"The Flash\"\n",
      "class=\"loadlate\"\n",
      "loadlate=\"https://m.media-amazon.com/images/M/MV5BZWE2ZWE5MDQtMTJlZi00MTVjLTkxOTgtNmNiYjg2NDIxN2NhXkEyXkFqcGdeQXVyMTUzMTg2ODkz._V1_UX67_CR0,0,67,98_AL_.jpg\"\n",
      "data-tconst=\"tt0439572\"\n",
      "height=\"98\"\n",
      "src=\"https://m.media-amazon.com/images/S/sash/4FyxwxECzL-U1J8.png\"\n",
      "width=\"67\" />\n",
      "</a>        </div>\n",
      "        <div class=\"lister-item-content\">\n",
      "<h3 class=\"lister-item-header\">\n",
      "        <span class=\"lister-item-index unbold text-primary\">54.</span>\n",
      "    \n",
      "    <a href=\"/title/tt0439572/\"\n",
      ">The Flash</a>\n",
      "    <span class=\"lister-item-year text-muted unbold\">(I) (2023)</span>\n",
      "</h3>\n",
      "    <p class=\"text-muted \">\n",
      "            <span class=\"certificate\">PG-13</span>\n",
      "                 <span class=\"ghost\">|</span> \n",
      "                <span class=\"runtime\">144 min</span>\n",
      "                 <span class=\"ghost\">|</span> \n",
      "            <span class=\"genre\">\n",
      "Action, Adventure, Fantasy            </span>\n",
      "    </p>\n",
      "    <div class=\"ratings-bar\">\n",
      "    <div class=\"inline-block ratings-imdb-rating\" name=\"ir\" data-value=\"6.7\">\n",
      "        <span class=\"global-sprite rating-star imdb-rating\"></span>\n",
      "        <strong>6.7</strong>\n",
      "    </div>\n",
      "            <div class=\"inline-block ratings-user-rating\">\n",
      "                <span class=\"userRatingValue\" id=\"urv_tt0439572\" data-tconst=\"tt0439572\">\n",
      "                    <span class=\"global-sprite rating-star no-rating\"></span>\n",
      "                    <span name=\"ur\" data-value=\"0\" class=\"rate\" data-no-rating=\"Rate this\">Rate this</span>\n",
      "                </span>\n",
      "    <div class=\"starBarWidget\" id=\"sb_tt0439572\">\n",
      "<div class=\"rating rating-list\" data-starbar-class=\"rating-list\" data-csrf-token=\"\" data-user=\"\" id=\"tt0439572|imdb|6.7|6.7|adv_li_tt||advsearch|title\" data-ga-identifier=\"\"\n",
      "title=\"Users rated this 6.7/10 (181,869 votes) - click stars to rate\" itemtype=\"http://schema.org/AggregateRating\" itemscope itemprop=\"aggregateRating\">\n",
      "  <meta itemprop=\"ratingValue\" content=\"6.7\" />\n",
      "  <meta itemprop=\"bestRating\" content=\"10\" />\n",
      "  <meta itemprop=\"ratingCount\" content=\"181869\" />\n",
      "<span class=\"rating-bg\">&nbsp;</span>\n",
      "<span class=\"rating-imdb \" style=\"width: 93.8px\">&nbsp;</span>\n",
      "<span class=\"rating-stars\">\n",
      "      <a href=\"/register/login?why=vote\"\n",
      "rel=\"nofollow\" title=\"Register or login to rate this title\" ><span>1</span></a>\n",
      "      <a href=\"/register/login?why=vote\"\n",
      "rel=\"nofollow\" title=\"Register or login to rate this title\" ><span>2</span></a>\n",
      "      <a href=\"/register/login?why=vote\"\n",
      "rel=\"nofollow\" title=\"Register or login to rate this title\" ><span>3</span></a>\n",
      "      <a href=\"/register/login?why=vote\"\n",
      "rel=\"nofollow\" title=\"Register or login to rate this title\" ><span>4</span></a>\n",
      "      <a href=\"/register/login?why=vote\"\n",
      "rel=\"nofollow\" title=\"Register or login to rate this title\" ><span>5</span></a>\n",
      "      <a href=\"/register/login?why=vote\"\n",
      "rel=\"nofollow\" title=\"Register or login to rate this title\" ><span>6</span></a>\n",
      "      <a href=\"/register/login?why=vote\"\n",
      "rel=\"nofollow\" title=\"Register or login to rate this title\" ><span>7</span></a>\n",
      "      <a href=\"/register/login?why=vote\"\n",
      "rel=\"nofollow\" title=\"Register or login to rate this title\" ><span>8</span></a>\n",
      "      <a href=\"/register/login?why=vote\"\n",
      "rel=\"nofollow\" title=\"Register or login to rate this title\" ><span>9</span></a>\n",
      "      <a href=\"/register/login?why=vote\"\n",
      "rel=\"nofollow\" title=\"Register or login to rate this title\" ><span>10</span></a>\n",
      "</span>\n",
      "<span class=\"rating-rating \"><span class=\"value\">6.7</span><span class=\"grey\">/</span><span class=\"grey\">10</span></span>\n",
      "<span class=\"rating-cancel \"><a href=\"/title/tt0439572/vote\" title=\"Delete\" rel=\"nofollow\"><span>X</span></a></span>\n",
      "&nbsp;</div>\n",
      "    </div>\n",
      "            </div>\n",
      "            <div class=\"inline-block ratings-metascore\">\n",
      "<span class=\"metascore  mixed\">55        </span>\n",
      "        Metascore\n",
      "            </div>\n",
      "    </div>\n",
      "<p class=\"text-muted\">\n",
      "Barry Allen uses his super speed to change the past, but his attempt to save his family creates a world without super heroes, forcing him to race for his life in order to save the future.</p>\n",
      "    <p class=\"\">\n",
      "    Director:\n",
      "<a href=\"/name/nm0615592/\"\n",
      ">Andy Muschietti</a>\n",
      "                 <span class=\"ghost\">|</span> \n",
      "    Stars:\n",
      "<a href=\"/name/nm3009232/\"\n",
      ">Ezra Miller</a>, \n",
      "<a href=\"/name/nm0000474/\"\n",
      ">Michael Keaton</a>, \n",
      "<a href=\"/name/nm8567338/\"\n",
      ">Sasha Calle</a>, \n",
      "<a href=\"/name/nm0788335/\"\n",
      ">Michael Shannon</a>\n",
      "    </p>\n",
      "        <p class=\"sort-num_votes-visible\">\n",
      "                <span class=\"text-muted\">Votes:</span>\n",
      "                <span name=\"nv\" data-value=\"181869\">181,869</span>\n",
      "            \n",
      "        </p>\n",
      "        </div>\n",
      "    </div>\n",
      "\n",
      "    <div class=\"lister-item mode-advanced\">\n",
      "        <div class=\"lister-top-right\">\n",
      "    <div class=\"ribbonize\" data-tconst=\"tt0092455\" data-caller=\"filmosearch\"></div>\n",
      "        </div>\n",
      "        <div class=\"lister-item-image float-left\">\n"
     ]
    }
   ],
   "source": [
    "sample = movie_info_html[3]\n",
    "\n",
    "print(sample)"
   ]
  },
  {
   "cell_type": "code",
   "execution_count": 107,
   "metadata": {},
   "outputs": [
    {
     "name": "stdout",
     "output_type": "stream",
     "text": [
      "['The Flash']\n",
      "['Action, Adventure, Fantasy']\n",
      "['6.7']\n",
      "['10']\n",
      "['181869']\n",
      "['Barry Allen uses his super speed to change the past, but his attempt to save his family creates a world without super heroes, forcing him to race for his life in order to save the future.']\n",
      "['Director:\\n<a href=\"/name/nm0615592/\"\\n>Andy Muschietti</a>']\n",
      "['Andy Muschietti']\n",
      "['Ezra Miller', 'Michael Keaton', 'Sasha Calle', 'Michael Shannon']\n"
     ]
    }
   ],
   "source": [
    "# Exrtracting details of the movies to create a database\n",
    "\n",
    "# Extracting movie title\n",
    "movie_name = re.findall('> <img alt=\"(.*?)\"', sample)\n",
    "print(movie_name)\n",
    "\n",
    "# Extracting the Genre\n",
    "movie_genre = re.findall('genre\">\\n(.*?)            </span>', sample, re.DOTALL)\n",
    "print(movie_genre)\n",
    "\n",
    "# Extracting IMDb movie Rating\n",
    "movie_rating = re.findall('ratingValue\" content=\"(.*?)\"', sample)\n",
    "print(movie_rating)\n",
    "\n",
    "# Extracting top IMDb rating by a user\n",
    "movie_top_rating = re.findall('bestRating\" content=\"(.*?)\"', sample)\n",
    "print(movie_top_rating)\n",
    "\n",
    "# Extracting the total number of user ratings\n",
    "movie_rating_count = re.findall('ratingCount\" content=\"(.*?)\"', sample)\n",
    "print(movie_rating_count)\n",
    "\n",
    "# Extracting movie description\n",
    "movie_desc = re.findall('<p class=\"text-muted\">\\n(.*?)</p>', sample)\n",
    "print(movie_desc)\n",
    "\n",
    "# Extracting Director name\n",
    "ext = re.findall('Director:\\n<a href=\"/name/nm.*?</a>', sample, re.DOTALL)\n",
    "print(ext)\n",
    "if len(ext) > 0:\n",
    "    movie_director = re.findall('>(.*?)</a>', ext[0])\n",
    "else:\n",
    "    movie_director = []\n",
    "print(movie_director)\n",
    "\n",
    "# Extracting Actors information\n",
    "ext_st = re.findall('Stars:.*?</p>', sample, re.DOTALL)\n",
    "movie_actors = re.findall('>(.*?)</a>', ext_st[0])\n",
    "print(movie_actors)"
   ]
  },
  {
   "cell_type": "code",
   "execution_count": 10,
   "metadata": {},
   "outputs": [],
   "source": [
    "df = pd.DataFrame(movies, columns=['Title'])"
   ]
  },
  {
   "cell_type": "code",
   "execution_count": 14,
   "metadata": {},
   "outputs": [
    {
     "data": {
      "text/html": [
       "<div>\n",
       "<style scoped>\n",
       "    .dataframe tbody tr th:only-of-type {\n",
       "        vertical-align: middle;\n",
       "    }\n",
       "\n",
       "    .dataframe tbody tr th {\n",
       "        vertical-align: top;\n",
       "    }\n",
       "\n",
       "    .dataframe thead th {\n",
       "        text-align: right;\n",
       "    }\n",
       "</style>\n",
       "<table border=\"1\" class=\"dataframe\">\n",
       "  <thead>\n",
       "    <tr style=\"text-align: right;\">\n",
       "      <th></th>\n",
       "      <th>Title</th>\n",
       "    </tr>\n",
       "  </thead>\n",
       "  <tbody>\n",
       "    <tr>\n",
       "      <th>count</th>\n",
       "      <td>50</td>\n",
       "    </tr>\n",
       "    <tr>\n",
       "      <th>unique</th>\n",
       "      <td>49</td>\n",
       "    </tr>\n",
       "    <tr>\n",
       "      <th>top</th>\n",
       "      <td>The Flash</td>\n",
       "    </tr>\n",
       "    <tr>\n",
       "      <th>freq</th>\n",
       "      <td>2</td>\n",
       "    </tr>\n",
       "  </tbody>\n",
       "</table>\n",
       "</div>"
      ],
      "text/plain": [
       "            Title\n",
       "count          50\n",
       "unique         49\n",
       "top     The Flash\n",
       "freq            2"
      ]
     },
     "execution_count": 14,
     "metadata": {},
     "output_type": "execute_result"
    }
   ],
   "source": [
    "df.describe()"
   ]
  }
 ],
 "metadata": {
  "kernelspec": {
   "display_name": "Python 3",
   "language": "python",
   "name": "python3"
  },
  "language_info": {
   "codemirror_mode": {
    "name": "ipython",
    "version": 3
   },
   "file_extension": ".py",
   "mimetype": "text/x-python",
   "name": "python",
   "nbconvert_exporter": "python",
   "pygments_lexer": "ipython3",
   "version": "3.10.6"
  }
 },
 "nbformat": 4,
 "nbformat_minor": 2
}
